{
 "cells": [
  {
   "cell_type": "code",
   "execution_count": 1,
   "metadata": {
    "ExecuteTime": {
     "end_time": "2020-02-23T11:25:26.676061Z",
     "start_time": "2020-02-23T11:25:24.031426Z"
    }
   },
   "outputs": [
    {
     "name": "stderr",
     "output_type": "stream",
     "text": [
      "Using TensorFlow backend.\n"
     ]
    }
   ],
   "source": [
    "from keras.models import Sequential\n",
    "from keras.layers import Dense,Dropout,Activation,Flatten,Conv2D,MaxPooling2D\n",
    "from keras.datasets import cifar10\n",
    "from keras.utils import np_utils\n",
    "from keras.optimizers import Adam,RMSprop,SGD"
   ]
  },
  {
   "cell_type": "code",
   "execution_count": 2,
   "metadata": {
    "ExecuteTime": {
     "end_time": "2020-02-23T11:25:27.604271Z",
     "start_time": "2020-02-23T11:25:27.600252Z"
    }
   },
   "outputs": [],
   "source": [
    "BATCH_SIZE=128\n",
    "VERBOSE = 0\n",
    "VALIDATION_SPLIT= 0.33\n"
   ]
  },
  {
   "cell_type": "code",
   "execution_count": 3,
   "metadata": {
    "ExecuteTime": {
     "end_time": "2020-02-23T11:25:27.853995Z",
     "start_time": "2020-02-23T11:25:27.850007Z"
    }
   },
   "outputs": [],
   "source": [
    "IMG_ROWS = 32\n",
    "IMG_COLS = 32\n",
    "IMG_CHANNELS = 3\n",
    "\n",
    "\n",
    "BATCH_SIZE=32\n",
    "VERBOSE = 0\n",
    "VALIDATION_SPLIT = 0.2\n",
    "NB_CLASESS = 10\n"
   ]
  },
  {
   "cell_type": "code",
   "execution_count": 4,
   "metadata": {
    "ExecuteTime": {
     "end_time": "2020-02-23T11:25:28.454201Z",
     "start_time": "2020-02-23T11:25:28.074304Z"
    }
   },
   "outputs": [],
   "source": [
    "(X_train,y_train), (X_test,y_test) = cifar10.load_data()"
   ]
  },
  {
   "cell_type": "code",
   "execution_count": 5,
   "metadata": {
    "ExecuteTime": {
     "end_time": "2020-02-23T11:25:28.462170Z",
     "start_time": "2020-02-23T11:25:28.455199Z"
    }
   },
   "outputs": [],
   "source": [
    "y_train = np_utils.to_categorical(y_train,NB_CLASESS)\n",
    "y_test = np_utils.to_categorical(y_test,NB_CLASESS)\n"
   ]
  },
  {
   "cell_type": "code",
   "execution_count": 6,
   "metadata": {
    "ExecuteTime": {
     "end_time": "2020-02-23T11:25:29.123137Z",
     "start_time": "2020-02-23T11:25:28.519019Z"
    }
   },
   "outputs": [],
   "source": [
    "X_train = X_train.astype('float32')\n",
    "X_test = X_test.astype('float32')\n",
    "\n",
    "X_train /= 255\n",
    "X_test /= 255\n"
   ]
  },
  {
   "cell_type": "code",
   "execution_count": null,
   "metadata": {
    "ExecuteTime": {
     "start_time": "2020-02-23T11:25:29.117Z"
    }
   },
   "outputs": [
    {
     "name": "stdout",
     "output_type": "stream",
     "text": [
      "_________________________________________________________________\n",
      "Layer (type)                 Output Shape              Param #   \n",
      "=================================================================\n",
      "conv2d_1 (Conv2D)            (None, 32, 32, 64)        1792      \n",
      "_________________________________________________________________\n",
      "activation_1 (Activation)    (None, 32, 32, 64)        0         \n",
      "_________________________________________________________________\n",
      "conv2d_2 (Conv2D)            (None, 32, 32, 64)        36928     \n",
      "_________________________________________________________________\n",
      "activation_2 (Activation)    (None, 32, 32, 64)        0         \n",
      "_________________________________________________________________\n",
      "max_pooling2d_1 (MaxPooling2 (None, 16, 16, 64)        0         \n",
      "_________________________________________________________________\n",
      "dropout_1 (Dropout)          (None, 16, 16, 64)        0         \n",
      "_________________________________________________________________\n",
      "conv2d_3 (Conv2D)            (None, 16, 16, 64)        36928     \n",
      "_________________________________________________________________\n",
      "activation_3 (Activation)    (None, 16, 16, 64)        0         \n",
      "_________________________________________________________________\n",
      "conv2d_4 (Conv2D)            (None, 16, 16, 64)        36928     \n",
      "_________________________________________________________________\n",
      "activation_4 (Activation)    (None, 16, 16, 64)        0         \n",
      "_________________________________________________________________\n",
      "max_pooling2d_2 (MaxPooling2 (None, 8, 8, 64)          0         \n",
      "_________________________________________________________________\n",
      "dropout_2 (Dropout)          (None, 8, 8, 64)          0         \n",
      "_________________________________________________________________\n",
      "flatten_1 (Flatten)          (None, 4096)              0         \n",
      "_________________________________________________________________\n",
      "dense_1 (Dense)              (None, 512)               2097664   \n",
      "_________________________________________________________________\n",
      "activation_5 (Activation)    (None, 512)               0         \n",
      "_________________________________________________________________\n",
      "dropout_3 (Dropout)          (None, 512)               0         \n",
      "_________________________________________________________________\n",
      "dense_2 (Dense)              (None, 10)                5130      \n",
      "=================================================================\n",
      "Total params: 2,215,370\n",
      "Trainable params: 2,215,370\n",
      "Non-trainable params: 0\n",
      "_________________________________________________________________\n"
     ]
    }
   ],
   "source": [
    "accuracy = []\n",
    "\n",
    "for OPTIMIZERS in [Adam(),RMSprop(),SGD()]:\n",
    "    for NB_EPOCH in [5]:\n",
    "        for N_filters in [64]:\n",
    "            model = Sequential()\n",
    "            model.add(Conv2D(filters=N_filters,kernel_size=3,padding='same',input_shape=[IMG_ROWS,IMG_COLS,IMG_CHANNELS]))\n",
    "            model.add(Activation('relu'))\n",
    "            model.add(Conv2D(filters=N_filters,kernel_size=3,padding='same'))\n",
    "            model.add(Activation('relu'))\n",
    "            model.add(MaxPooling2D(pool_size=(2,2)))\n",
    "            model.add(Dropout(0.2))\n",
    "            \n",
    "            model.add(Conv2D(filters=N_filters,kernel_size=3,padding='same'))\n",
    "            model.add(Activation('relu'))\n",
    "            model.add(Conv2D(filters=N_filters,kernel_size=3,padding='same'))\n",
    "            model.add(Activation('relu'))\n",
    "            model.add(MaxPooling2D(pool_size=(2,2)))\n",
    "            model.add(Dropout(0.2))\n",
    "            \n",
    "            model.add(Flatten())\n",
    "            model.add(Dense(512))\n",
    "            model.add(Activation('relu'))\n",
    "            model.add(Dropout(0.2))\n",
    "            model.add(Dense(NB_CLASESS))\n",
    "            \n",
    "            model.summary()\n",
    "            model.compile(loss='categorical_crossentropy',optimizer=OPTIMIZERS,metrics=['accuracy'])\n",
    "            model.fit(X_train,y_train,epochs = NB_EPOCH,verbose=VERBOSE,batch_size=BATCH_SIZE,validation_split = VALIDATION_SPLIT)\n",
    "            score = model.evalute(X_test,y_test,verbose = VERBOSE)\n",
    "            print(\"Optimizers:\",OPTIMIZERS)\n",
    "            print(\"Epoch size: \",NB_EPOCH)\n",
    "            print(\"filters size \",N_filters)\n",
    "            print(\"test score:\",score[0])\n",
    "            print(\"test accuracy:\",score[1])\n",
    "            accuracy.append(score[1])\n",
    "            \n",
    "            \n",
    "print(accuracy)\n",
    "\n",
    "\n",
    "            \n",
    "            "
   ]
  },
  {
   "cell_type": "code",
   "execution_count": null,
   "metadata": {},
   "outputs": [],
   "source": []
  }
 ],
 "metadata": {
  "kernelspec": {
   "display_name": "Python 3",
   "language": "python",
   "name": "python3"
  },
  "language_info": {
   "codemirror_mode": {
    "name": "ipython",
    "version": 3
   },
   "file_extension": ".py",
   "mimetype": "text/x-python",
   "name": "python",
   "nbconvert_exporter": "python",
   "pygments_lexer": "ipython3",
   "version": "3.6.5"
  }
 },
 "nbformat": 4,
 "nbformat_minor": 2
}
