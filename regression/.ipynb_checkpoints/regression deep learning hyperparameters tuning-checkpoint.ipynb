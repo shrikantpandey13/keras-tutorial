{
 "cells": [
  {
   "cell_type": "code",
   "execution_count": 13,
   "metadata": {
    "ExecuteTime": {
     "end_time": "2020-02-23T08:41:28.671848Z",
     "start_time": "2020-02-23T08:41:28.668855Z"
    }
   },
   "outputs": [],
   "source": [
    "import logging\n",
    "import time"
   ]
  },
  {
   "cell_type": "code",
   "execution_count": null,
   "metadata": {
    "ExecuteTime": {
     "end_time": "2020-02-23T08:04:02.592755Z",
     "start_time": "2020-02-23T08:04:02.588769Z"
    }
   },
   "outputs": [],
   "source": [
    "\n"
   ]
  },
  {
   "cell_type": "code",
   "execution_count": 14,
   "metadata": {
    "ExecuteTime": {
     "end_time": "2020-02-23T08:41:29.266153Z",
     "start_time": "2020-02-23T08:41:29.262171Z"
    }
   },
   "outputs": [],
   "source": [
    "logging.basicConfig(level=logging.info,\n",
    "                    format='%(asctime)s %(name)-12s %(levelname)-8s %(message)s',\n",
    "                    datefmt='%m-%d %H:%M',\n",
    "                    filename='my.log',\n",
    "filemode='w')\n",
    "\n"
   ]
  },
  {
   "cell_type": "code",
   "execution_count": 20,
   "metadata": {
    "ExecuteTime": {
     "end_time": "2020-02-23T08:49:12.446080Z",
     "start_time": "2020-02-23T08:49:12.442091Z"
    }
   },
   "outputs": [],
   "source": [
    "from keras.datasets import boston_housing\n",
    "from keras.models import Sequential\n",
    "from keras.layers import Dense,Dropout,Activation\n"
   ]
  },
  {
   "cell_type": "code",
   "execution_count": 21,
   "metadata": {
    "ExecuteTime": {
     "end_time": "2020-02-23T08:49:12.729835Z",
     "start_time": "2020-02-23T08:49:12.725846Z"
    }
   },
   "outputs": [],
   "source": [
    "BATCH_SIZE=128\n",
    "VERBOSE = 0\n",
    "VALIDATION_SPLIT= 0.33\n"
   ]
  },
  {
   "cell_type": "code",
   "execution_count": 22,
   "metadata": {
    "ExecuteTime": {
     "end_time": "2020-02-23T08:49:12.976009Z",
     "start_time": "2020-02-23T08:49:12.968996Z"
    }
   },
   "outputs": [],
   "source": [
    "(X_train,y_train), (X_test,y_test) = boston_housing.load_data()\n"
   ]
  },
  {
   "cell_type": "code",
   "execution_count": 23,
   "metadata": {
    "ExecuteTime": {
     "end_time": "2020-02-23T08:49:13.196388Z",
     "start_time": "2020-02-23T08:49:13.191403Z"
    }
   },
   "outputs": [
    {
     "name": "stdout",
     "output_type": "stream",
     "text": [
      "X_train shape is (404, 13)\n",
      "Y_train shape is (404,)\n",
      "X_test shape is (102, 13)\n",
      "Y_test shape is (102,)\n"
     ]
    }
   ],
   "source": [
    "print(\"X_train shape is\",X_train.shape)\n",
    "print(\"Y_train shape is\",y_train.shape)\n",
    "print(\"X_test shape is\",X_test.shape)\n",
    "print(\"Y_test shape is\",y_test.shape)\n"
   ]
  },
  {
   "cell_type": "code",
   "execution_count": 24,
   "metadata": {
    "ExecuteTime": {
     "end_time": "2020-02-23T08:54:44.960692Z",
     "start_time": "2020-02-23T08:49:16.058020Z"
    }
   },
   "outputs": [
    {
     "name": "stdout",
     "output_type": "stream",
     "text": [
      "Optimizers:Adam\n",
      "Epoch size200\n",
      "Neuron units:28\n",
      "Models metric names:['loss', 'mean_absolute_error']\n",
      "socre is[35.69632137522978, 3.9292196292503205]\n",
      "Optimizers:Adam\n",
      "Epoch size200\n",
      "Neuron units:56\n",
      "Models metric names:['loss', 'mean_absolute_error']\n",
      "socre is[45.89393496045879, 4.85165418363085]\n",
      "Optimizers:Adam\n",
      "Epoch size200\n",
      "Neuron units:112\n",
      "Models metric names:['loss', 'mean_absolute_error']\n",
      "socre is[34.288807738061045, 4.035632049336153]\n",
      "Optimizers:Adam\n",
      "Epoch size500\n",
      "Neuron units:28\n",
      "Models metric names:['loss', 'mean_absolute_error']\n",
      "socre is[35.428007986031325, 4.014953688079236]\n",
      "Optimizers:Adam\n",
      "Epoch size500\n",
      "Neuron units:56\n",
      "Models metric names:['loss', 'mean_absolute_error']\n",
      "socre is[28.156390021829043, 3.6024406190012015]\n",
      "Optimizers:Adam\n",
      "Epoch size500\n",
      "Neuron units:112\n",
      "Models metric names:['loss', 'mean_absolute_error']\n",
      "socre is[28.06044470095167, 3.956107691222546]\n",
      "Optimizers:Adam\n",
      "Epoch size1000\n",
      "Neuron units:28\n",
      "Models metric names:['loss', 'mean_absolute_error']\n",
      "socre is[31.582960166183174, 3.7792703684638527]\n",
      "Optimizers:Adam\n",
      "Epoch size1000\n",
      "Neuron units:56\n",
      "Models metric names:['loss', 'mean_absolute_error']\n",
      "socre is[30.931692684397976, 3.9088254535899445]\n",
      "Optimizers:Adam\n",
      "Epoch size1000\n",
      "Neuron units:112\n",
      "Models metric names:['loss', 'mean_absolute_error']\n",
      "socre is[27.359426386216107, 3.6369493521896064]\n",
      "Optimizers:RMSprop\n",
      "Epoch size200\n",
      "Neuron units:28\n",
      "Models metric names:['loss', 'mean_absolute_error']\n",
      "socre is[43.838909074371934, 4.845479432274313]\n",
      "Optimizers:RMSprop\n",
      "Epoch size200\n",
      "Neuron units:56\n",
      "Models metric names:['loss', 'mean_absolute_error']\n",
      "socre is[63.46897409476486, 6.705310905680937]\n",
      "Optimizers:RMSprop\n",
      "Epoch size200\n",
      "Neuron units:112\n",
      "Models metric names:['loss', 'mean_absolute_error']\n",
      "socre is[42.78029243618834, 4.786435529297473]\n",
      "Optimizers:RMSprop\n",
      "Epoch size500\n",
      "Neuron units:28\n",
      "Models metric names:['loss', 'mean_absolute_error']\n",
      "socre is[34.587216470755784, 4.56101755067414]\n",
      "Optimizers:RMSprop\n",
      "Epoch size500\n",
      "Neuron units:56\n",
      "Models metric names:['loss', 'mean_absolute_error']\n",
      "socre is[92.12364271575329, 8.24863037408567]\n",
      "Optimizers:RMSprop\n",
      "Epoch size500\n",
      "Neuron units:112\n",
      "Models metric names:['loss', 'mean_absolute_error']\n",
      "socre is[31.227213766060622, 3.9495777148826448]\n",
      "Optimizers:RMSprop\n",
      "Epoch size1000\n",
      "Neuron units:28\n",
      "Models metric names:['loss', 'mean_absolute_error']\n",
      "socre is[53.38303113451191, 6.251642049527636]\n",
      "Optimizers:RMSprop\n",
      "Epoch size1000\n",
      "Neuron units:56\n",
      "Models metric names:['loss', 'mean_absolute_error']\n",
      "socre is[30.902297300450943, 4.261558457916858]\n",
      "Optimizers:RMSprop\n",
      "Epoch size1000\n",
      "Neuron units:112\n",
      "Models metric names:['loss', 'mean_absolute_error']\n",
      "socre is[31.563984665216186, 3.8688979335859712]\n",
      "Optimizers:Adagrad\n",
      "Epoch size200\n",
      "Neuron units:28\n",
      "Models metric names:['loss', 'mean_absolute_error']\n",
      "socre is[57.2701514748966, 5.456639551648907]\n",
      "Optimizers:Adagrad\n",
      "Epoch size200\n",
      "Neuron units:56\n",
      "Models metric names:['loss', 'mean_absolute_error']\n",
      "socre is[57.86678927552466, 5.501852690004835]\n",
      "Optimizers:Adagrad\n",
      "Epoch size200\n",
      "Neuron units:112\n",
      "Models metric names:['loss', 'mean_absolute_error']\n",
      "socre is[49.22461341409122, 4.965765335980584]\n",
      "Optimizers:Adagrad\n",
      "Epoch size500\n",
      "Neuron units:28\n",
      "Models metric names:['loss', 'mean_absolute_error']\n",
      "socre is[39.81159898346546, 4.502418817258349]\n",
      "Optimizers:Adagrad\n",
      "Epoch size500\n",
      "Neuron units:56\n",
      "Models metric names:['loss', 'mean_absolute_error']\n",
      "socre is[39.173897387934666, 4.3713174240261905]\n",
      "Optimizers:Adagrad\n",
      "Epoch size500\n",
      "Neuron units:112\n",
      "Models metric names:['loss', 'mean_absolute_error']\n",
      "socre is[42.96848850624234, 4.87189110587625]\n",
      "Optimizers:Adagrad\n",
      "Epoch size1000\n",
      "Neuron units:28\n",
      "Models metric names:['loss', 'mean_absolute_error']\n",
      "socre is[35.42527726117302, 4.310192856134153]\n",
      "Optimizers:Adagrad\n",
      "Epoch size1000\n",
      "Neuron units:56\n",
      "Models metric names:['loss', 'mean_absolute_error']\n",
      "socre is[31.188961552638634, 3.9573658868378283]\n",
      "Optimizers:Adagrad\n",
      "Epoch size1000\n",
      "Neuron units:112\n",
      "Models metric names:['loss', 'mean_absolute_error']\n",
      "socre is[38.93052344228707, 4.739325205485026]\n",
      "Mean absolute error: [3.9292196292503205, 4.85165418363085, 4.035632049336153, 4.014953688079236, 3.6024406190012015, 3.956107691222546, 3.7792703684638527, 3.9088254535899445, 3.6369493521896064, 4.845479432274313, 6.705310905680937, 4.786435529297473, 4.56101755067414, 8.24863037408567, 3.9495777148826448, 6.251642049527636, 4.261558457916858, 3.8688979335859712, 5.456639551648907, 5.501852690004835, 4.965765335980584, 4.502418817258349, 4.3713174240261905, 4.87189110587625, 4.310192856134153, 3.9573658868378283, 4.739325205485026]\n"
     ]
    }
   ],
   "source": [
    "score  = []\n",
    "\n",
    "for OPTIMIZERS in ['Adam','RMSprop','Adagrad']:\n",
    "    for NB_EPOCH in[200,500,1000]:\n",
    "        for Multiple_Layers in [28,56,112]:\n",
    "            model = Sequential()\n",
    "            model.add(Dense(units=Multiple_Layers,input_shape=(X_train.shape[1],)))\n",
    "            model.add(Activation('relu'))\n",
    "            model.add(Dense(units=Multiple_Layers))\n",
    "            model.add(Activation('relu'))\n",
    "            model.add(Dense(units=1))\n",
    "            model.compile(loss='mean_squared_error',optimizer= OPTIMIZERS,metrics=['mae'])\n",
    "            model.fit(X_train,y_train,verbose=VERBOSE,epochs = NB_EPOCH,batch_size=BATCH_SIZE,validation_split=VALIDATION_SPLIT)\n",
    "            scores = model.evaluate(X_test,y_test,verbose=VERBOSE)\n",
    "            print(\"Optimizers: \"+str(OPTIMIZERS))\n",
    "            print(\"Epoch size \"+str(NB_EPOCH))\n",
    "            print(\"Neuron units: \"+str(Multiple_Layers))\n",
    "            print(\"Models metric names: \"+str(model.metrics_names))\n",
    "            print(\"socre is\"+str(scores))\n",
    "            score.append(scores[1])\n",
    "    \n",
    "print(\"Mean absolute error:\",score)\n",
    "    \n",
    "            "
   ]
  },
  {
   "cell_type": "code",
   "execution_count": null,
   "metadata": {},
   "outputs": [],
   "source": []
  }
 ],
 "metadata": {
  "kernelspec": {
   "display_name": "Python 3",
   "language": "python",
   "name": "python3"
  },
  "language_info": {
   "codemirror_mode": {
    "name": "ipython",
    "version": 3
   },
   "file_extension": ".py",
   "mimetype": "text/x-python",
   "name": "python",
   "nbconvert_exporter": "python",
   "pygments_lexer": "ipython3",
   "version": "3.6.5"
  }
 },
 "nbformat": 4,
 "nbformat_minor": 2
}
