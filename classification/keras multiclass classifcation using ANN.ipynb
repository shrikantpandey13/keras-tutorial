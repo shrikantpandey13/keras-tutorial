{
 "cells": [
  {
   "cell_type": "code",
   "execution_count": 1,
   "metadata": {
    "ExecuteTime": {
     "end_time": "2020-02-22T11:32:25.096914Z",
     "start_time": "2020-02-22T11:32:23.621747Z"
    }
   },
   "outputs": [],
   "source": [
    "import pandas as pd\n",
    "import matplotlib.pyplot as plt\n",
    "import seaborn as sns\n",
    "\n",
    "from sklearn.preprocessing import LabelEncoder\n",
    "from sklearn.model_selection import train_test_split\n",
    "from sklearn.preprocessing import StandardScaler\n",
    "\n",
    "import keras\n",
    "from keras.models import Sequential\n",
    "from keras.layers import Dense,Dropout\n",
    "from keras.optimizers import Adam\n",
    "\n",
    "from keras.utils.vis_utils import model_to_dot\n",
    "from keras.utils import plot_model\n"
   ]
  },
  {
   "cell_type": "code",
   "execution_count": 14,
   "metadata": {
    "ExecuteTime": {
     "end_time": "2020-02-22T11:49:27.163008Z",
     "start_time": "2020-02-22T11:49:27.131866Z"
    }
   },
   "outputs": [
    {
     "data": {
      "text/html": [
       "<div>\n",
       "<style scoped>\n",
       "    .dataframe tbody tr th:only-of-type {\n",
       "        vertical-align: middle;\n",
       "    }\n",
       "\n",
       "    .dataframe tbody tr th {\n",
       "        vertical-align: top;\n",
       "    }\n",
       "\n",
       "    .dataframe thead th {\n",
       "        text-align: right;\n",
       "    }\n",
       "</style>\n",
       "<table border=\"1\" class=\"dataframe\">\n",
       "  <thead>\n",
       "    <tr style=\"text-align: right;\">\n",
       "      <th></th>\n",
       "      <th>5.1</th>\n",
       "      <th>3.5</th>\n",
       "      <th>1.4</th>\n",
       "      <th>0.2</th>\n",
       "      <th>Iris-setosa</th>\n",
       "    </tr>\n",
       "  </thead>\n",
       "  <tbody>\n",
       "    <tr>\n",
       "      <th>0</th>\n",
       "      <td>4.9</td>\n",
       "      <td>3.0</td>\n",
       "      <td>1.4</td>\n",
       "      <td>0.2</td>\n",
       "      <td>Iris-setosa</td>\n",
       "    </tr>\n",
       "    <tr>\n",
       "      <th>1</th>\n",
       "      <td>4.7</td>\n",
       "      <td>3.2</td>\n",
       "      <td>1.3</td>\n",
       "      <td>0.2</td>\n",
       "      <td>Iris-setosa</td>\n",
       "    </tr>\n",
       "    <tr>\n",
       "      <th>2</th>\n",
       "      <td>4.6</td>\n",
       "      <td>3.1</td>\n",
       "      <td>1.5</td>\n",
       "      <td>0.2</td>\n",
       "      <td>Iris-setosa</td>\n",
       "    </tr>\n",
       "    <tr>\n",
       "      <th>3</th>\n",
       "      <td>5.0</td>\n",
       "      <td>3.6</td>\n",
       "      <td>1.4</td>\n",
       "      <td>0.2</td>\n",
       "      <td>Iris-setosa</td>\n",
       "    </tr>\n",
       "    <tr>\n",
       "      <th>4</th>\n",
       "      <td>5.4</td>\n",
       "      <td>3.9</td>\n",
       "      <td>1.7</td>\n",
       "      <td>0.4</td>\n",
       "      <td>Iris-setosa</td>\n",
       "    </tr>\n",
       "  </tbody>\n",
       "</table>\n",
       "</div>"
      ],
      "text/plain": [
       "   5.1  3.5  1.4  0.2  Iris-setosa\n",
       "0  4.9  3.0  1.4  0.2  Iris-setosa\n",
       "1  4.7  3.2  1.3  0.2  Iris-setosa\n",
       "2  4.6  3.1  1.5  0.2  Iris-setosa\n",
       "3  5.0  3.6  1.4  0.2  Iris-setosa\n",
       "4  5.4  3.9  1.7  0.4  Iris-setosa"
      ]
     },
     "execution_count": 14,
     "metadata": {},
     "output_type": "execute_result"
    }
   ],
   "source": [
    "data = pd.read_csv('iris.data')\n",
    "data.head()"
   ]
  },
  {
   "cell_type": "code",
   "execution_count": 15,
   "metadata": {
    "ExecuteTime": {
     "end_time": "2020-02-22T11:49:27.376170Z",
     "start_time": "2020-02-22T11:49:27.366761Z"
    }
   },
   "outputs": [
    {
     "data": {
      "text/plain": [
       "Iris-versicolor    50\n",
       "Iris-virginica     50\n",
       "Iris-setosa        49\n",
       "Name: Iris-setosa, dtype: int64"
      ]
     },
     "execution_count": 15,
     "metadata": {},
     "output_type": "execute_result"
    }
   ],
   "source": [
    "data['Iris-setosa'].value_counts()"
   ]
  },
  {
   "cell_type": "code",
   "execution_count": 21,
   "metadata": {
    "ExecuteTime": {
     "end_time": "2020-02-22T11:50:43.631591Z",
     "start_time": "2020-02-22T11:50:43.625624Z"
    }
   },
   "outputs": [],
   "source": [
    "X = data.iloc[:,0:4].values\n",
    "y = data.iloc[:,4].values\n"
   ]
  },
  {
   "cell_type": "code",
   "execution_count": 22,
   "metadata": {
    "ExecuteTime": {
     "end_time": "2020-02-22T11:50:44.598572Z",
     "start_time": "2020-02-22T11:50:44.594613Z"
    }
   },
   "outputs": [],
   "source": [
    "# y = pd.get_dummies(y)\n"
   ]
  },
  {
   "cell_type": "code",
   "execution_count": 23,
   "metadata": {
    "ExecuteTime": {
     "end_time": "2020-02-22T11:50:44.905643Z",
     "start_time": "2020-02-22T11:50:44.900703Z"
    }
   },
   "outputs": [],
   "source": [
    "encoder =  LabelEncoder()\n",
    "y1 = encoder.fit_transform(y)\n",
    "Y = pd.get_dummies(y1).values"
   ]
  },
  {
   "cell_type": "code",
   "execution_count": 24,
   "metadata": {
    "ExecuteTime": {
     "end_time": "2020-02-22T11:50:45.205489Z",
     "start_time": "2020-02-22T11:50:45.200518Z"
    }
   },
   "outputs": [],
   "source": [
    "from sklearn.model_selection import train_test_split\n",
    "X_train,X_test, y_train,y_test = train_test_split(X,Y,test_size=0.2,random_state=0)"
   ]
  },
  {
   "cell_type": "code",
   "execution_count": 25,
   "metadata": {
    "ExecuteTime": {
     "end_time": "2020-02-22T11:50:49.857555Z",
     "start_time": "2020-02-22T11:50:45.533951Z"
    }
   },
   "outputs": [
    {
     "name": "stderr",
     "output_type": "stream",
     "text": [
      "C:\\Users\\Shrikant\\Anaconda3\\lib\\site-packages\\ipykernel_launcher.py:5: UserWarning: The `nb_epoch` argument in `fit` has been renamed `epochs`.\n",
      "  \"\"\"\n"
     ]
    },
    {
     "name": "stdout",
     "output_type": "stream",
     "text": [
      "Epoch 1/100\n",
      "119/119 [==============================] - 0s 4ms/step - loss: 1.4370 - acc: 0.1345\n",
      "Epoch 2/100\n",
      "119/119 [==============================] - 0s 245us/step - loss: 1.3880 - acc: 0.0756\n",
      "Epoch 3/100\n",
      "119/119 [==============================] - 0s 279us/step - loss: 1.3348 - acc: 0.0504\n",
      "Epoch 4/100\n",
      "119/119 [==============================] - 0s 232us/step - loss: 1.2814 - acc: 0.1092\n",
      "Epoch 5/100\n",
      "119/119 [==============================] - 0s 266us/step - loss: 1.2289 - acc: 0.1933\n",
      "Epoch 6/100\n",
      "119/119 [==============================] - 0s 279us/step - loss: 1.1792 - acc: 0.3109\n",
      "Epoch 7/100\n",
      "119/119 [==============================] - 0s 249us/step - loss: 1.1422 - acc: 0.3445\n",
      "Epoch 8/100\n",
      "119/119 [==============================] - 0s 171us/step - loss: 1.1155 - acc: 0.3529\n",
      "Epoch 9/100\n",
      "119/119 [==============================] - 0s 297us/step - loss: 1.0956 - acc: 0.3529\n",
      "Epoch 10/100\n",
      "119/119 [==============================] - 0s 188us/step - loss: 1.0837 - acc: 0.3529\n",
      "Epoch 11/100\n",
      "119/119 [==============================] - 0s 274us/step - loss: 1.0739 - acc: 0.3529\n",
      "Epoch 12/100\n",
      "119/119 [==============================] - 0s 252us/step - loss: 1.0660 - acc: 0.3529\n",
      "Epoch 13/100\n",
      "119/119 [==============================] - 0s 302us/step - loss: 1.0581 - acc: 0.3529\n",
      "Epoch 14/100\n",
      "119/119 [==============================] - 0s 198us/step - loss: 1.0516 - acc: 0.3529\n",
      "Epoch 15/100\n",
      "119/119 [==============================] - ETA: 0s - loss: 0.8202 - acc: 0.800 - 0s 219us/step - loss: 1.0447 - acc: 0.3529\n",
      "Epoch 16/100\n",
      "119/119 [==============================] - 0s 247us/step - loss: 1.0379 - acc: 0.3529\n",
      "Epoch 17/100\n",
      "119/119 [==============================] - 0s 242us/step - loss: 1.0315 - acc: 0.3529\n",
      "Epoch 18/100\n",
      "119/119 [==============================] - 0s 181us/step - loss: 1.0254 - acc: 0.3529\n",
      "Epoch 19/100\n",
      "119/119 [==============================] - 0s 270us/step - loss: 1.0194 - acc: 0.3529\n",
      "Epoch 20/100\n",
      "119/119 [==============================] - 0s 295us/step - loss: 1.0127 - acc: 0.3529\n",
      "Epoch 21/100\n",
      "119/119 [==============================] - 0s 214us/step - loss: 1.0065 - acc: 0.3529\n",
      "Epoch 22/100\n",
      "119/119 [==============================] - 0s 239us/step - loss: 1.0000 - acc: 0.3782\n",
      "Epoch 23/100\n",
      "119/119 [==============================] - 0s 285us/step - loss: 0.9932 - acc: 0.3950\n",
      "Epoch 24/100\n",
      "119/119 [==============================] - 0s 204us/step - loss: 0.9866 - acc: 0.3950\n",
      "Epoch 25/100\n",
      "119/119 [==============================] - 0s 218us/step - loss: 0.9798 - acc: 0.4118\n",
      "Epoch 26/100\n",
      "119/119 [==============================] - 0s 299us/step - loss: 0.9727 - acc: 0.4286\n",
      "Epoch 27/100\n",
      "119/119 [==============================] - 0s 263us/step - loss: 0.9656 - acc: 0.4622\n",
      "Epoch 28/100\n",
      "119/119 [==============================] - 0s 392us/step - loss: 0.9586 - acc: 0.4706\n",
      "Epoch 29/100\n",
      "119/119 [==============================] - 0s 245us/step - loss: 0.9509 - acc: 0.5126\n",
      "Epoch 30/100\n",
      "119/119 [==============================] - 0s 250us/step - loss: 0.9429 - acc: 0.5462\n",
      "Epoch 31/100\n",
      "119/119 [==============================] - 0s 178us/step - loss: 0.9350 - acc: 0.5630\n",
      "Epoch 32/100\n",
      "119/119 [==============================] - 0s 258us/step - loss: 0.9270 - acc: 0.5798\n",
      "Epoch 33/100\n",
      "119/119 [==============================] - 0s 287us/step - loss: 0.9186 - acc: 0.5966\n",
      "Epoch 34/100\n",
      "119/119 [==============================] - 0s 240us/step - loss: 0.9107 - acc: 0.5966\n",
      "Epoch 35/100\n",
      "119/119 [==============================] - 0s 173us/step - loss: 0.9031 - acc: 0.6134\n",
      "Epoch 36/100\n",
      "119/119 [==============================] - 0s 185us/step - loss: 0.8949 - acc: 0.6134\n",
      "Epoch 37/100\n",
      "119/119 [==============================] - 0s 279us/step - loss: 0.8868 - acc: 0.6303\n",
      "Epoch 38/100\n",
      "119/119 [==============================] - 0s 288us/step - loss: 0.8794 - acc: 0.6471\n",
      "Epoch 39/100\n",
      "119/119 [==============================] - 0s 264us/step - loss: 0.8717 - acc: 0.6555\n",
      "Epoch 40/100\n",
      "119/119 [==============================] - 0s 304us/step - loss: 0.8643 - acc: 0.6555\n",
      "Epoch 41/100\n",
      "119/119 [==============================] - 0s 232us/step - loss: 0.8570 - acc: 0.6555\n",
      "Epoch 42/100\n",
      "119/119 [==============================] - 0s 270us/step - loss: 0.8497 - acc: 0.6639\n",
      "Epoch 43/100\n",
      "119/119 [==============================] - 0s 287us/step - loss: 0.8424 - acc: 0.6639\n",
      "Epoch 44/100\n",
      "119/119 [==============================] - 0s 208us/step - loss: 0.8356 - acc: 0.6723\n",
      "Epoch 45/100\n",
      "119/119 [==============================] - 0s 211us/step - loss: 0.8289 - acc: 0.6723\n",
      "Epoch 46/100\n",
      "119/119 [==============================] - ETA: 0s - loss: 0.7360 - acc: 0.900 - 0s 251us/step - loss: 0.8221 - acc: 0.6723\n",
      "Epoch 47/100\n",
      "119/119 [==============================] - 0s 279us/step - loss: 0.8160 - acc: 0.6723\n",
      "Epoch 48/100\n",
      "119/119 [==============================] - 0s 127us/step - loss: 0.8097 - acc: 0.6723\n",
      "Epoch 49/100\n",
      "119/119 [==============================] - 0s 261us/step - loss: 0.8040 - acc: 0.6723\n",
      "Epoch 50/100\n",
      "119/119 [==============================] - 0s 217us/step - loss: 0.7981 - acc: 0.6639\n",
      "Epoch 51/100\n",
      "119/119 [==============================] - 0s 220us/step - loss: 0.7923 - acc: 0.6639\n",
      "Epoch 52/100\n",
      "119/119 [==============================] - 0s 290us/step - loss: 0.7866 - acc: 0.6639\n",
      "Epoch 53/100\n",
      "119/119 [==============================] - 0s 102us/step - loss: 0.7814 - acc: 0.6639\n",
      "Epoch 54/100\n",
      "119/119 [==============================] - 0s 270us/step - loss: 0.7760 - acc: 0.6639\n",
      "Epoch 55/100\n",
      "119/119 [==============================] - 0s 213us/step - loss: 0.7704 - acc: 0.6723\n",
      "Epoch 56/100\n",
      "119/119 [==============================] - 0s 286us/step - loss: 0.7653 - acc: 0.6723\n",
      "Epoch 57/100\n",
      "119/119 [==============================] - 0s 198us/step - loss: 0.7604 - acc: 0.6723\n",
      "Epoch 58/100\n",
      "119/119 [==============================] - 0s 110us/step - loss: 0.7553 - acc: 0.6723\n",
      "Epoch 59/100\n",
      "119/119 [==============================] - 0s 178us/step - loss: 0.7505 - acc: 0.6723\n",
      "Epoch 60/100\n",
      "119/119 [==============================] - 0s 140us/step - loss: 0.7458 - acc: 0.6807\n",
      "Epoch 61/100\n",
      "119/119 [==============================] - 0s 219us/step - loss: 0.7412 - acc: 0.6723\n",
      "Epoch 62/100\n",
      "119/119 [==============================] - 0s 171us/step - loss: 0.7367 - acc: 0.6723\n",
      "Epoch 63/100\n",
      "119/119 [==============================] - 0s 171us/step - loss: 0.7323 - acc: 0.6807\n",
      "Epoch 64/100\n",
      "119/119 [==============================] - 0s 124us/step - loss: 0.7274 - acc: 0.6891\n",
      "Epoch 65/100\n",
      "119/119 [==============================] - 0s 231us/step - loss: 0.7231 - acc: 0.6891\n",
      "Epoch 66/100\n",
      "119/119 [==============================] - 0s 118us/step - loss: 0.7187 - acc: 0.6891\n",
      "Epoch 67/100\n",
      "119/119 [==============================] - 0s 188us/step - loss: 0.7143 - acc: 0.6891\n",
      "Epoch 68/100\n",
      "119/119 [==============================] - 0s 130us/step - loss: 0.7103 - acc: 0.6891\n",
      "Epoch 69/100\n",
      "119/119 [==============================] - 0s 174us/step - loss: 0.7062 - acc: 0.6975\n",
      "Epoch 70/100\n",
      "119/119 [==============================] - 0s 222us/step - loss: 0.7019 - acc: 0.6975\n",
      "Epoch 71/100\n",
      "119/119 [==============================] - 0s 194us/step - loss: 0.6981 - acc: 0.6975\n",
      "Epoch 72/100\n",
      "119/119 [==============================] - 0s 187us/step - loss: 0.6939 - acc: 0.6975\n",
      "Epoch 73/100\n",
      "119/119 [==============================] - 0s 207us/step - loss: 0.6902 - acc: 0.6975\n",
      "Epoch 74/100\n",
      "119/119 [==============================] - 0s 148us/step - loss: 0.6863 - acc: 0.7059\n",
      "Epoch 75/100\n",
      "119/119 [==============================] - 0s 163us/step - loss: 0.6834 - acc: 0.6975\n",
      "Epoch 76/100\n",
      "119/119 [==============================] - 0s 199us/step - loss: 0.6787 - acc: 0.6975\n",
      "Epoch 77/100\n",
      "119/119 [==============================] - 0s 136us/step - loss: 0.6749 - acc: 0.7059\n",
      "Epoch 78/100\n",
      "119/119 [==============================] - 0s 227us/step - loss: 0.6716 - acc: 0.7059\n",
      "Epoch 79/100\n",
      "119/119 [==============================] - 0s 143us/step - loss: 0.6678 - acc: 0.7059\n",
      "Epoch 80/100\n",
      "119/119 [==============================] - 0s 278us/step - loss: 0.6647 - acc: 0.7059\n",
      "Epoch 81/100\n",
      "119/119 [==============================] - 0s 223us/step - loss: 0.6610 - acc: 0.7059\n",
      "Epoch 82/100\n",
      "119/119 [==============================] - 0s 166us/step - loss: 0.6578 - acc: 0.7059\n",
      "Epoch 83/100\n"
     ]
    },
    {
     "name": "stdout",
     "output_type": "stream",
     "text": [
      "119/119 [==============================] - 0s 220us/step - loss: 0.6543 - acc: 0.7059\n",
      "Epoch 84/100\n",
      "119/119 [==============================] - 0s 197us/step - loss: 0.6512 - acc: 0.7059\n",
      "Epoch 85/100\n",
      "119/119 [==============================] - 0s 220us/step - loss: 0.6477 - acc: 0.7059\n",
      "Epoch 86/100\n",
      "119/119 [==============================] - 0s 139us/step - loss: 0.6445 - acc: 0.7059\n",
      "Epoch 87/100\n",
      "119/119 [==============================] - 0s 212us/step - loss: 0.6415 - acc: 0.7143\n",
      "Epoch 88/100\n",
      "119/119 [==============================] - 0s 196us/step - loss: 0.6383 - acc: 0.7143\n",
      "Epoch 89/100\n",
      "119/119 [==============================] - 0s 131us/step - loss: 0.6353 - acc: 0.7143\n",
      "Epoch 90/100\n",
      "119/119 [==============================] - ETA: 0s - loss: 0.6039 - acc: 0.800 - 0s 174us/step - loss: 0.6323 - acc: 0.7059\n",
      "Epoch 91/100\n",
      "119/119 [==============================] - 0s 161us/step - loss: 0.6297 - acc: 0.7143\n",
      "Epoch 92/100\n",
      "119/119 [==============================] - 0s 117us/step - loss: 0.6269 - acc: 0.7143\n",
      "Epoch 93/100\n",
      "119/119 [==============================] - 0s 210us/step - loss: 0.6235 - acc: 0.7143\n",
      "Epoch 94/100\n",
      "119/119 [==============================] - 0s 194us/step - loss: 0.6211 - acc: 0.7143\n",
      "Epoch 95/100\n",
      "119/119 [==============================] - 0s 153us/step - loss: 0.6179 - acc: 0.7143\n",
      "Epoch 96/100\n",
      "119/119 [==============================] - 0s 231us/step - loss: 0.6152 - acc: 0.7143\n",
      "Epoch 97/100\n",
      "119/119 [==============================] - 0s 184us/step - loss: 0.6126 - acc: 0.7143\n",
      "Epoch 98/100\n",
      "119/119 [==============================] - 0s 207us/step - loss: 0.6097 - acc: 0.7227\n",
      "Epoch 99/100\n",
      "119/119 [==============================] - 0s 125us/step - loss: 0.6072 - acc: 0.7227\n",
      "Epoch 100/100\n",
      "119/119 [==============================] - 0s 192us/step - loss: 0.6044 - acc: 0.7227\n"
     ]
    },
    {
     "data": {
      "text/plain": [
       "<keras.callbacks.History at 0x20f8080eda0>"
      ]
     },
     "execution_count": 25,
     "metadata": {},
     "output_type": "execute_result"
    }
   ],
   "source": [
    "model = Sequential()\n",
    "model.add(Dense(4,input_shape=(4,),activation='relu'))\n",
    "model.add(Dense(3,activation='softmax'))\n",
    "model.compile(optimizer=\"Adam\", loss='categorical_crossentropy', metrics=['accuracy'])\n",
    "model.fit(X_train,y_train,batch_size=10, nb_epoch=100)\n",
    "\n"
   ]
  },
  {
   "cell_type": "code",
   "execution_count": 26,
   "metadata": {
    "ExecuteTime": {
     "end_time": "2020-02-22T11:51:35.782227Z",
     "start_time": "2020-02-22T11:51:35.741150Z"
    }
   },
   "outputs": [],
   "source": [
    "y_pred = model.predict(X_test)"
   ]
  },
  {
   "cell_type": "code",
   "execution_count": 28,
   "metadata": {
    "ExecuteTime": {
     "end_time": "2020-02-22T11:52:36.147087Z",
     "start_time": "2020-02-22T11:52:36.139243Z"
    }
   },
   "outputs": [],
   "source": [
    "import numpy as np\n",
    "y_test_class = np.argmax(y_test,axis=1)\n",
    "y_pred_class = np.argmax(y_pred,axis=1)\n"
   ]
  },
  {
   "cell_type": "code",
   "execution_count": 29,
   "metadata": {
    "ExecuteTime": {
     "end_time": "2020-02-22T11:52:58.640806Z",
     "start_time": "2020-02-22T11:52:58.629518Z"
    }
   },
   "outputs": [
    {
     "name": "stdout",
     "output_type": "stream",
     "text": [
      "              precision    recall  f1-score   support\n",
      "\n",
      "           0       1.00      1.00      1.00        12\n",
      "           1       1.00      0.20      0.33        10\n",
      "           2       0.50      1.00      0.67         8\n",
      "\n",
      "   micro avg       0.73      0.73      0.73        30\n",
      "   macro avg       0.83      0.73      0.67        30\n",
      "weighted avg       0.87      0.73      0.69        30\n",
      "\n",
      "[[12  0  0]\n",
      " [ 0  2  8]\n",
      " [ 0  0  8]]\n"
     ]
    }
   ],
   "source": [
    "from sklearn.metrics import classification_report,confusion_matrix\n",
    "print(classification_report(y_test_class,y_pred_class))\n",
    "print(confusion_matrix(y_test_class,y_pred_class))"
   ]
  },
  {
   "cell_type": "code",
   "execution_count": null,
   "metadata": {},
   "outputs": [],
   "source": []
  }
 ],
 "metadata": {
  "kernelspec": {
   "display_name": "Python 3",
   "language": "python",
   "name": "python3"
  },
  "language_info": {
   "codemirror_mode": {
    "name": "ipython",
    "version": 3
   },
   "file_extension": ".py",
   "mimetype": "text/x-python",
   "name": "python",
   "nbconvert_exporter": "python",
   "pygments_lexer": "ipython3",
   "version": "3.6.6"
  }
 },
 "nbformat": 4,
 "nbformat_minor": 2
}
