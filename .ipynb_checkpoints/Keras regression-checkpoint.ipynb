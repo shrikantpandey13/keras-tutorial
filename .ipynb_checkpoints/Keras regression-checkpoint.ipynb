{
 "cells": [
  {
   "cell_type": "code",
   "execution_count": 1,
   "metadata": {
    "ExecuteTime": {
     "end_time": "2020-02-22T11:57:56.699912Z",
     "start_time": "2020-02-22T11:57:49.612070Z"
    }
   },
   "outputs": [
    {
     "name": "stderr",
     "output_type": "stream",
     "text": [
      "Using TensorFlow backend.\n"
     ]
    }
   ],
   "source": [
    "import pandas as pd\n",
    "import matplotlib.pyplot as plt\n",
    "import seaborn as sns\n",
    "\n",
    "from sklearn.preprocessing import LabelEncoder\n",
    "from sklearn.model_selection import train_test_split\n",
    "from sklearn.preprocessing import StandardScaler\n",
    "\n",
    "import keras\n",
    "from keras.models import Sequential\n",
    "from keras.layers import Dense,Dropout\n",
    "from keras.optimizers import Adam\n",
    "\n",
    "from keras.utils.vis_utils import model_to_dot\n",
    "from keras.utils import plot_model"
   ]
  },
  {
   "cell_type": "code",
   "execution_count": 4,
   "metadata": {
    "ExecuteTime": {
     "end_time": "2020-02-22T11:59:41.768849Z",
     "start_time": "2020-02-22T11:59:41.740327Z"
    }
   },
   "outputs": [
    {
     "data": {
      "text/html": [
       "<div>\n",
       "<style scoped>\n",
       "    .dataframe tbody tr th:only-of-type {\n",
       "        vertical-align: middle;\n",
       "    }\n",
       "\n",
       "    .dataframe tbody tr th {\n",
       "        vertical-align: top;\n",
       "    }\n",
       "\n",
       "    .dataframe thead th {\n",
       "        text-align: right;\n",
       "    }\n",
       "</style>\n",
       "<table border=\"1\" class=\"dataframe\">\n",
       "  <thead>\n",
       "    <tr style=\"text-align: right;\">\n",
       "      <th></th>\n",
       "      <th>crim</th>\n",
       "      <th>zn</th>\n",
       "      <th>indus</th>\n",
       "      <th>chas</th>\n",
       "      <th>nox</th>\n",
       "      <th>rm</th>\n",
       "      <th>age</th>\n",
       "      <th>dis</th>\n",
       "      <th>rad</th>\n",
       "      <th>tax</th>\n",
       "      <th>ptratio</th>\n",
       "      <th>black</th>\n",
       "      <th>lstat</th>\n",
       "      <th>medv</th>\n",
       "    </tr>\n",
       "  </thead>\n",
       "  <tbody>\n",
       "    <tr>\n",
       "      <th>0</th>\n",
       "      <td>0.00632</td>\n",
       "      <td>18.0</td>\n",
       "      <td>2.31</td>\n",
       "      <td>0</td>\n",
       "      <td>0.538</td>\n",
       "      <td>6.575</td>\n",
       "      <td>65.2</td>\n",
       "      <td>4.0900</td>\n",
       "      <td>1</td>\n",
       "      <td>296.0</td>\n",
       "      <td>15.3</td>\n",
       "      <td>396.90</td>\n",
       "      <td>4.98</td>\n",
       "      <td>24.0</td>\n",
       "    </tr>\n",
       "    <tr>\n",
       "      <th>1</th>\n",
       "      <td>0.02731</td>\n",
       "      <td>0.0</td>\n",
       "      <td>7.07</td>\n",
       "      <td>0</td>\n",
       "      <td>0.469</td>\n",
       "      <td>6.421</td>\n",
       "      <td>78.9</td>\n",
       "      <td>4.9671</td>\n",
       "      <td>2</td>\n",
       "      <td>242.0</td>\n",
       "      <td>17.8</td>\n",
       "      <td>396.90</td>\n",
       "      <td>9.14</td>\n",
       "      <td>21.6</td>\n",
       "    </tr>\n",
       "    <tr>\n",
       "      <th>2</th>\n",
       "      <td>0.02729</td>\n",
       "      <td>0.0</td>\n",
       "      <td>7.07</td>\n",
       "      <td>0</td>\n",
       "      <td>0.469</td>\n",
       "      <td>7.185</td>\n",
       "      <td>61.1</td>\n",
       "      <td>4.9671</td>\n",
       "      <td>2</td>\n",
       "      <td>242.0</td>\n",
       "      <td>17.8</td>\n",
       "      <td>392.83</td>\n",
       "      <td>4.03</td>\n",
       "      <td>34.7</td>\n",
       "    </tr>\n",
       "    <tr>\n",
       "      <th>3</th>\n",
       "      <td>0.03237</td>\n",
       "      <td>0.0</td>\n",
       "      <td>2.18</td>\n",
       "      <td>0</td>\n",
       "      <td>0.458</td>\n",
       "      <td>6.998</td>\n",
       "      <td>45.8</td>\n",
       "      <td>6.0622</td>\n",
       "      <td>3</td>\n",
       "      <td>222.0</td>\n",
       "      <td>18.7</td>\n",
       "      <td>394.63</td>\n",
       "      <td>2.94</td>\n",
       "      <td>33.4</td>\n",
       "    </tr>\n",
       "    <tr>\n",
       "      <th>4</th>\n",
       "      <td>0.06905</td>\n",
       "      <td>0.0</td>\n",
       "      <td>2.18</td>\n",
       "      <td>0</td>\n",
       "      <td>0.458</td>\n",
       "      <td>7.147</td>\n",
       "      <td>54.2</td>\n",
       "      <td>6.0622</td>\n",
       "      <td>3</td>\n",
       "      <td>222.0</td>\n",
       "      <td>18.7</td>\n",
       "      <td>396.90</td>\n",
       "      <td>5.33</td>\n",
       "      <td>36.2</td>\n",
       "    </tr>\n",
       "  </tbody>\n",
       "</table>\n",
       "</div>"
      ],
      "text/plain": [
       "      crim    zn  indus  chas    nox     rm   age     dis  rad    tax  \\\n",
       "0  0.00632  18.0   2.31     0  0.538  6.575  65.2  4.0900    1  296.0   \n",
       "1  0.02731   0.0   7.07     0  0.469  6.421  78.9  4.9671    2  242.0   \n",
       "2  0.02729   0.0   7.07     0  0.469  7.185  61.1  4.9671    2  242.0   \n",
       "3  0.03237   0.0   2.18     0  0.458  6.998  45.8  6.0622    3  222.0   \n",
       "4  0.06905   0.0   2.18     0  0.458  7.147  54.2  6.0622    3  222.0   \n",
       "\n",
       "   ptratio   black  lstat  medv  \n",
       "0     15.3  396.90   4.98  24.0  \n",
       "1     17.8  396.90   9.14  21.6  \n",
       "2     17.8  392.83   4.03  34.7  \n",
       "3     18.7  394.63   2.94  33.4  \n",
       "4     18.7  396.90   5.33  36.2  "
      ]
     },
     "execution_count": 4,
     "metadata": {},
     "output_type": "execute_result"
    }
   ],
   "source": [
    "BHNames= ['crim','zn','indus','chas','nox','rm',\n",
    "         'age','dis','rad','tax','ptratio','black','lstat','medv']\n",
    "\n",
    "data = pd.read_csv(\"housing.data\", delim_whitespace=True, names=BHNames)\n",
    "data.head()\n"
   ]
  },
  {
   "cell_type": "code",
   "execution_count": 8,
   "metadata": {
    "ExecuteTime": {
     "end_time": "2020-02-22T12:03:38.692212Z",
     "start_time": "2020-02-22T12:03:38.676860Z"
    }
   },
   "outputs": [
    {
     "name": "stdout",
     "output_type": "stream",
     "text": [
      "MinMaxScaler(copy=True, feature_range=(0, 1))\n"
     ]
    },
    {
     "name": "stderr",
     "output_type": "stream",
     "text": [
      "C:\\Users\\Shrikant\\Anaconda3\\lib\\site-packages\\sklearn\\preprocessing\\data.py:323: DataConversionWarning: Data with input dtype int64, float64 were all converted to float64 by MinMaxScaler.\n",
      "  return self.partial_fit(X, y)\n",
      "C:\\Users\\Shrikant\\Anaconda3\\lib\\site-packages\\sklearn\\preprocessing\\data.py:323: DataConversionWarning: Data with input dtype int64, float64 were all converted to float64 by MinMaxScaler.\n",
      "  return self.partial_fit(X, y)\n"
     ]
    }
   ],
   "source": [
    "from sklearn.preprocessing import MinMaxScaler\n",
    "\n",
    "scaler = MinMaxScaler()\n",
    "print(scaler.fit(data))\n",
    "DataScaled = scaler.fit_transform(data)\n",
    "DataScaled = pd.DataFrame(DataScaled, columns=BHNames)"
   ]
  },
  {
   "cell_type": "code",
   "execution_count": 9,
   "metadata": {
    "ExecuteTime": {
     "end_time": "2020-02-22T12:03:45.036070Z",
     "start_time": "2020-02-22T12:03:44.601046Z"
    }
   },
   "outputs": [
    {
     "data": {
      "image/png": "[encoded data removed]",
      "text/plain": [
       "<Figure size 288x288 with 2 Axes>"
      ]
     },
     "metadata": {
      "needs_background": "light"
     },
     "output_type": "display_data"
    }
   ],
   "source": [
    "CorData = DataScaled.corr(method='pearson')\n",
    "\n",
    "\n",
    "plt.matshow(CorData)\n",
    "plt.xticks(range(len(CorData.columns)), CorData.columns)\n",
    "plt.yticks(range(len(CorData.columns)), CorData.columns)\n",
    "plt.colorbar()\n",
    "plt.show()"
   ]
  },
  {
   "cell_type": "code",
   "execution_count": 10,
   "metadata": {
    "ExecuteTime": {
     "end_time": "2020-02-22T12:04:19.040869Z",
     "start_time": "2020-02-22T12:04:19.022088Z"
    }
   },
   "outputs": [
    {
     "name": "stdout",
     "output_type": "stream",
     "text": [
      "X shape =  (506, 13)\n",
      "Y shape =  (506,)\n",
      "X train shape =  (354, 13)\n",
      "X test shape =  (152, 13)\n",
      "Y train shape =  (354,)\n",
      "Y test shape =  (152,)\n"
     ]
    }
   ],
   "source": [
    "X = DataScaled.drop('medv', axis = 1)\n",
    "print('X shape = ',X.shape)\n",
    "Y = DataScaled['medv']\n",
    "print('Y shape = ',Y.shape)\n",
    "\n",
    "X_train, X_test, Y_train, Y_test = train_test_split(X, Y, test_size = 0.30, random_state = 5)\n",
    "print('X train shape = ',X_train.shape)\n",
    "print('X test shape = ', X_test.shape)\n",
    "print('Y train shape = ', Y_train.shape)\n",
    "print('Y test shape = ',Y_test.shape)\n"
   ]
  },
  {
   "cell_type": "code",
   "execution_count": 11,
   "metadata": {
    "ExecuteTime": {
     "end_time": "2020-02-22T12:05:42.453618Z",
     "start_time": "2020-02-22T12:05:37.549908Z"
    }
   },
   "outputs": [
    {
     "name": "stdout",
     "output_type": "stream",
     "text": [
      "Epoch 1/100\n",
      "354/354 [==============================] - 0s 1ms/step - loss: 0.3322 - acc: 0.0056\n",
      "Epoch 2/100\n",
      "354/354 [==============================] - 0s 95us/step - loss: 0.2344 - acc: 0.0056\n",
      "Epoch 3/100\n",
      "354/354 [==============================] - 0s 87us/step - loss: 0.1832 - acc: 0.0056\n",
      "Epoch 4/100\n",
      "354/354 [==============================] - 0s 78us/step - loss: 0.1584 - acc: 0.0056\n",
      "Epoch 5/100\n",
      "354/354 [==============================] - 0s 112us/step - loss: 0.1401 - acc: 0.0056\n",
      "Epoch 6/100\n",
      "354/354 [==============================] - 0s 107us/step - loss: 0.1247 - acc: 0.0056\n",
      "Epoch 7/100\n",
      "354/354 [==============================] - 0s 110us/step - loss: 0.1096 - acc: 0.0056\n",
      "Epoch 8/100\n",
      "354/354 [==============================] - 0s 78us/step - loss: 0.0958 - acc: 0.0056\n",
      "Epoch 9/100\n",
      "354/354 [==============================] - 0s 68us/step - loss: 0.0832 - acc: 0.0056\n",
      "Epoch 10/100\n",
      "354/354 [==============================] - 0s 106us/step - loss: 0.0720 - acc: 0.0056\n",
      "Epoch 11/100\n",
      "354/354 [==============================] - 0s 120us/step - loss: 0.0633 - acc: 0.0056\n",
      "Epoch 12/100\n",
      "354/354 [==============================] - 0s 136us/step - loss: 0.0567 - acc: 0.0056\n",
      "Epoch 13/100\n",
      "354/354 [==============================] - 0s 88us/step - loss: 0.0521 - acc: 0.0056\n",
      "Epoch 14/100\n",
      "354/354 [==============================] - 0s 133us/step - loss: 0.0489 - acc: 0.0056\n",
      "Epoch 15/100\n",
      "354/354 [==============================] - 0s 91us/step - loss: 0.0457 - acc: 0.0056\n",
      "Epoch 16/100\n",
      "354/354 [==============================] - 0s 87us/step - loss: 0.0428 - acc: 0.0056\n",
      "Epoch 17/100\n",
      "354/354 [==============================] - 0s 66us/step - loss: 0.0397 - acc: 0.0056\n",
      "Epoch 18/100\n",
      "354/354 [==============================] - 0s 75us/step - loss: 0.0371 - acc: 0.0056\n",
      "Epoch 19/100\n",
      "354/354 [==============================] - 0s 69us/step - loss: 0.0347 - acc: 0.0056\n",
      "Epoch 20/100\n",
      "354/354 [==============================] - 0s 102us/step - loss: 0.0323 - acc: 0.0056\n",
      "Epoch 21/100\n",
      "354/354 [==============================] - 0s 118us/step - loss: 0.0302 - acc: 0.0056\n",
      "Epoch 22/100\n",
      "354/354 [==============================] - 0s 136us/step - loss: 0.0284 - acc: 0.0056\n",
      "Epoch 23/100\n",
      "354/354 [==============================] - 0s 94us/step - loss: 0.0266 - acc: 0.0085\n",
      "Epoch 24/100\n",
      "354/354 [==============================] - 0s 97us/step - loss: 0.0253 - acc: 0.0085\n",
      "Epoch 25/100\n",
      "354/354 [==============================] - 0s 89us/step - loss: 0.0240 - acc: 0.0085\n",
      "Epoch 26/100\n",
      "354/354 [==============================] - 0s 48us/step - loss: 0.0230 - acc: 0.0085\n",
      "Epoch 27/100\n",
      "354/354 [==============================] - 0s 70us/step - loss: 0.0221 - acc: 0.0085\n",
      "Epoch 28/100\n",
      "354/354 [==============================] - 0s 103us/step - loss: 0.0212 - acc: 0.0113\n",
      "Epoch 29/100\n",
      "354/354 [==============================] - 0s 61us/step - loss: 0.0206 - acc: 0.0113\n",
      "Epoch 30/100\n",
      "354/354 [==============================] - 0s 77us/step - loss: 0.0201 - acc: 0.0141\n",
      "Epoch 31/100\n",
      "354/354 [==============================] - 0s 144us/step - loss: 0.0196 - acc: 0.0169\n",
      "Epoch 32/100\n",
      "354/354 [==============================] - 0s 72us/step - loss: 0.0191 - acc: 0.0198\n",
      "Epoch 33/100\n",
      "354/354 [==============================] - 0s 119us/step - loss: 0.0185 - acc: 0.0226\n",
      "Epoch 34/100\n",
      "354/354 [==============================] - 0s 108us/step - loss: 0.0181 - acc: 0.0226\n",
      "Epoch 35/100\n",
      "354/354 [==============================] - 0s 100us/step - loss: 0.0176 - acc: 0.0226\n",
      "Epoch 36/100\n",
      "354/354 [==============================] - 0s 73us/step - loss: 0.0172 - acc: 0.0226\n",
      "Epoch 37/100\n",
      "354/354 [==============================] - 0s 82us/step - loss: 0.0166 - acc: 0.0226\n",
      "Epoch 38/100\n",
      "354/354 [==============================] - 0s 133us/step - loss: 0.0163 - acc: 0.0226\n",
      "Epoch 39/100\n",
      "354/354 [==============================] - 0s 79us/step - loss: 0.0159 - acc: 0.0226\n",
      "Epoch 40/100\n",
      "354/354 [==============================] - 0s 80us/step - loss: 0.0155 - acc: 0.0226\n",
      "Epoch 41/100\n",
      "354/354 [==============================] - 0s 88us/step - loss: 0.0150 - acc: 0.0226\n",
      "Epoch 42/100\n",
      "354/354 [==============================] - 0s 105us/step - loss: 0.0147 - acc: 0.0226\n",
      "Epoch 43/100\n",
      "354/354 [==============================] - 0s 99us/step - loss: 0.0144 - acc: 0.0226\n",
      "Epoch 44/100\n",
      "354/354 [==============================] - 0s 99us/step - loss: 0.0143 - acc: 0.0226\n",
      "Epoch 45/100\n",
      "354/354 [==============================] - 0s 93us/step - loss: 0.0140 - acc: 0.0226\n",
      "Epoch 46/100\n",
      "354/354 [==============================] - 0s 77us/step - loss: 0.0135 - acc: 0.0226\n",
      "Epoch 47/100\n",
      "354/354 [==============================] - 0s 151us/step - loss: 0.0132 - acc: 0.0226\n",
      "Epoch 48/100\n",
      "354/354 [==============================] - 0s 74us/step - loss: 0.0129 - acc: 0.0226\n",
      "Epoch 49/100\n",
      "354/354 [==============================] - 0s 154us/step - loss: 0.0126 - acc: 0.0226\n",
      "Epoch 50/100\n",
      "354/354 [==============================] - 0s 233us/step - loss: 0.0124 - acc: 0.0226\n",
      "Epoch 51/100\n",
      "354/354 [==============================] - 0s 98us/step - loss: 0.0122 - acc: 0.0226\n",
      "Epoch 52/100\n",
      "354/354 [==============================] - 0s 89us/step - loss: 0.0120 - acc: 0.0226\n",
      "Epoch 53/100\n",
      "354/354 [==============================] - 0s 93us/step - loss: 0.0118 - acc: 0.0226\n",
      "Epoch 54/100\n",
      "354/354 [==============================] - 0s 127us/step - loss: 0.0115 - acc: 0.0226\n",
      "Epoch 55/100\n",
      "354/354 [==============================] - 0s 61us/step - loss: 0.0114 - acc: 0.0226\n",
      "Epoch 56/100\n",
      "354/354 [==============================] - 0s 139us/step - loss: 0.0112 - acc: 0.0226\n",
      "Epoch 57/100\n",
      "354/354 [==============================] - 0s 48us/step - loss: 0.0111 - acc: 0.0226\n",
      "Epoch 58/100\n",
      "354/354 [==============================] - 0s 59us/step - loss: 0.0110 - acc: 0.0226\n",
      "Epoch 59/100\n",
      "354/354 [==============================] - 0s 107us/step - loss: 0.0108 - acc: 0.0226\n",
      "Epoch 60/100\n",
      "354/354 [==============================] - 0s 95us/step - loss: 0.0106 - acc: 0.0226\n",
      "Epoch 61/100\n",
      "354/354 [==============================] - 0s 50us/step - loss: 0.0105 - acc: 0.0226\n",
      "Epoch 62/100\n",
      "354/354 [==============================] - 0s 98us/step - loss: 0.0106 - acc: 0.0226\n",
      "Epoch 63/100\n",
      "354/354 [==============================] - 0s 49us/step - loss: 0.0106 - acc: 0.0226\n",
      "Epoch 64/100\n",
      "354/354 [==============================] - 0s 76us/step - loss: 0.0105 - acc: 0.0226\n",
      "Epoch 65/100\n",
      "354/354 [==============================] - 0s 51us/step - loss: 0.0103 - acc: 0.0226\n",
      "Epoch 66/100\n",
      "354/354 [==============================] - 0s 59us/step - loss: 0.0101 - acc: 0.0226\n",
      "Epoch 67/100\n",
      "354/354 [==============================] - 0s 130us/step - loss: 0.0100 - acc: 0.0254\n",
      "Epoch 68/100\n",
      "354/354 [==============================] - 0s 50us/step - loss: 0.0099 - acc: 0.0254\n",
      "Epoch 69/100\n",
      "354/354 [==============================] - 0s 100us/step - loss: 0.0098 - acc: 0.0226\n",
      "Epoch 70/100\n",
      "354/354 [==============================] - 0s 42us/step - loss: 0.0098 - acc: 0.0254\n",
      "Epoch 71/100\n",
      "354/354 [==============================] - 0s 119us/step - loss: 0.0100 - acc: 0.0226\n",
      "Epoch 72/100\n",
      "354/354 [==============================] - 0s 56us/step - loss: 0.0099 - acc: 0.0254\n",
      "Epoch 73/100\n",
      "354/354 [==============================] - 0s 130us/step - loss: 0.0097 - acc: 0.0226\n",
      "Epoch 74/100\n",
      "354/354 [==============================] - 0s 110us/step - loss: 0.0095 - acc: 0.0226\n",
      "Epoch 75/100\n",
      "354/354 [==============================] - 0s 59us/step - loss: 0.0094 - acc: 0.0226\n",
      "Epoch 76/100\n",
      "354/354 [==============================] - 0s 97us/step - loss: 0.0094 - acc: 0.0226\n",
      "Epoch 77/100\n",
      "354/354 [==============================] - 0s 51us/step - loss: 0.0094 - acc: 0.0226\n",
      "Epoch 78/100\n",
      "354/354 [==============================] - 0s 73us/step - loss: 0.0093 - acc: 0.0226\n",
      "Epoch 79/100\n",
      "354/354 [==============================] - 0s 71us/step - loss: 0.0093 - acc: 0.0226\n",
      "Epoch 80/100\n",
      "354/354 [==============================] - 0s 61us/step - loss: 0.0093 - acc: 0.0226\n",
      "Epoch 81/100\n",
      "354/354 [==============================] - 0s 52us/step - loss: 0.0093 - acc: 0.0226\n",
      "Epoch 82/100\n",
      "354/354 [==============================] - 0s 78us/step - loss: 0.0092 - acc: 0.0254\n",
      "Epoch 83/100\n",
      "354/354 [==============================] - 0s 103us/step - loss: 0.0092 - acc: 0.0254\n",
      "Epoch 84/100\n"
     ]
    },
    {
     "name": "stdout",
     "output_type": "stream",
     "text": [
      "354/354 [==============================] - 0s 46us/step - loss: 0.0092 - acc: 0.0226\n",
      "Epoch 85/100\n",
      "354/354 [==============================] - 0s 102us/step - loss: 0.0091 - acc: 0.0254\n",
      "Epoch 86/100\n",
      "354/354 [==============================] - 0s 45us/step - loss: 0.0091 - acc: 0.0226\n",
      "Epoch 87/100\n",
      "354/354 [==============================] - 0s 59us/step - loss: 0.0090 - acc: 0.0226\n",
      "Epoch 88/100\n",
      "354/354 [==============================] - 0s 99us/step - loss: 0.0089 - acc: 0.0254\n",
      "Epoch 89/100\n",
      "354/354 [==============================] - 0s 52us/step - loss: 0.0089 - acc: 0.0226\n",
      "Epoch 90/100\n",
      "354/354 [==============================] - 0s 67us/step - loss: 0.0095 - acc: 0.0254\n",
      "Epoch 91/100\n",
      "354/354 [==============================] - 0s 91us/step - loss: 0.0088 - acc: 0.0226\n",
      "Epoch 92/100\n",
      "354/354 [==============================] - 0s 96us/step - loss: 0.0087 - acc: 0.0226\n",
      "Epoch 93/100\n",
      "354/354 [==============================] - 0s 93us/step - loss: 0.0089 - acc: 0.0226\n",
      "Epoch 94/100\n",
      "354/354 [==============================] - 0s 92us/step - loss: 0.0087 - acc: 0.0226\n",
      "Epoch 95/100\n",
      "354/354 [==============================] - 0s 56us/step - loss: 0.0086 - acc: 0.0254\n",
      "Epoch 96/100\n",
      "354/354 [==============================] - 0s 50us/step - loss: 0.0087 - acc: 0.0226\n",
      "Epoch 97/100\n",
      "354/354 [==============================] - 0s 110us/step - loss: 0.0085 - acc: 0.0254\n",
      "Epoch 98/100\n",
      "354/354 [==============================] - 0s 74us/step - loss: 0.0085 - acc: 0.0226\n",
      "Epoch 99/100\n",
      "354/354 [==============================] - 0s 73us/step - loss: 0.0086 - acc: 0.0254\n",
      "Epoch 100/100\n",
      "354/354 [==============================] - 0s 94us/step - loss: 0.0085 - acc: 0.0226\n",
      "_________________________________________________________________\n",
      "Layer (type)                 Output Shape              Param #   \n",
      "=================================================================\n",
      "dense_1 (Dense)              (None, 20)                280       \n",
      "_________________________________________________________________\n",
      "dense_2 (Dense)              (None, 10)                210       \n",
      "_________________________________________________________________\n",
      "dense_3 (Dense)              (None, 1)                 11        \n",
      "=================================================================\n",
      "Total params: 501\n",
      "Trainable params: 501\n",
      "Non-trainable params: 0\n",
      "_________________________________________________________________\n"
     ]
    }
   ],
   "source": [
    "#first input and first hidden layer\n",
    "model = Sequential()\n",
    "model.add(Dense(20,input_dim=13, activation='relu'))\n",
    "\n",
    "#second hidden layer\n",
    "model.add(Dense(10, activation='relu'))\n",
    "\n",
    "#output layer\n",
    "model.add(Dense(1, activation='linear'))\n",
    "\n",
    "#compile ANN\n",
    "model.compile(optimizer=\"Adam\", loss='mean_squared_error', metrics=['accuracy'])\n",
    "\n",
    "#fit and display the summary \n",
    "model.fit(X_train,Y_train, epochs=100, verbose=1)\n",
    "\n",
    "model.summary()"
   ]
  },
  {
   "cell_type": "code",
   "execution_count": 12,
   "metadata": {
    "ExecuteTime": {
     "end_time": "2020-02-22T12:06:23.719335Z",
     "start_time": "2020-02-22T12:06:23.614188Z"
    }
   },
   "outputs": [
    {
     "name": "stdout",
     "output_type": "stream",
     "text": [
      "0.01411210843606999\n"
     ]
    }
   ],
   "source": [
    "Y_predKM =  model.predict(X_test)\n",
    "score = model.evaluate(X_test,Y_test, verbose=0)\n",
    "print(score[0])"
   ]
  },
  {
   "cell_type": "code",
   "execution_count": 13,
   "metadata": {
    "ExecuteTime": {
     "end_time": "2020-02-22T12:06:57.824066Z",
     "start_time": "2020-02-22T12:06:57.004549Z"
    }
   },
   "outputs": [
    {
     "data": {
      "image/png": "[encoded data removed]",
      "text/plain": [
       "<Figure size 432x288 with 2 Axes>"
      ]
     },
     "metadata": {
      "needs_background": "light"
     },
     "output_type": "display_data"
    }
   ],
   "source": [
    "#Multiple Linear Regression\n",
    "from sklearn.linear_model import LinearRegression\n",
    "\n",
    "LModel = LinearRegression()\n",
    "LModel.fit(X_train, Y_train)\n",
    "\n",
    "Y_predLM = LModel.predict(X_test)\n",
    "\n",
    "plt.figure(1)\n",
    "plt.subplot(121)\n",
    "plt.scatter(Y_test, Y_predKM)\n",
    "plt.xlabel(\"Actual values\")\n",
    "plt.ylabel(\"Predicted values\")\n",
    "plt.title(\"Keras Neural Network Model\")\n",
    "\n",
    "plt.subplot(122)\n",
    "plt.scatter(Y_test, Y_predLM)\n",
    "plt.xlabel(\"Actual values\")\n",
    "plt.ylabel(\"Predicted values\")\n",
    "plt.title(\"SKLearn Linear Regression Model\")\n",
    "plt.show()"
   ]
  },
  {
   "cell_type": "code",
   "execution_count": 14,
   "metadata": {
    "ExecuteTime": {
     "end_time": "2020-02-22T12:07:52.609886Z",
     "start_time": "2020-02-22T12:07:52.603921Z"
    }
   },
   "outputs": [
    {
     "name": "stdout",
     "output_type": "stream",
     "text": [
      "Linear Regression Model Mean Square Error\n",
      "0.015159030964982024\n"
     ]
    }
   ],
   "source": [
    "from sklearn.metrics import mean_squared_error\n",
    "\n",
    "mse = mean_squared_error(Y_test, Y_predLM)\n",
    "print('Linear Regression Model Mean Square Error')\n",
    "print(mse)"
   ]
  },
  {
   "cell_type": "code",
   "execution_count": 15,
   "metadata": {
    "ExecuteTime": {
     "end_time": "2020-02-22T12:08:29.418463Z",
     "start_time": "2020-02-22T12:08:29.407014Z"
    }
   },
   "outputs": [
    {
     "name": "stdout",
     "output_type": "stream",
     "text": [
      "Linear Regression Model Mean Square Error\n",
      "0.014112107657043224\n"
     ]
    }
   ],
   "source": [
    "mse_KM = mean_squared_error(Y_test, Y_predKM)\n",
    "print('Linear Regression Model Mean Square Error')\n",
    "print(mse_KM)"
   ]
  },
  {
   "cell_type": "code",
   "execution_count": null,
   "metadata": {},
   "outputs": [],
   "source": []
  }
 ],
 "metadata": {
  "kernelspec": {
   "display_name": "Python 3",
   "language": "python",
   "name": "python3"
  },
  "language_info": {
   "codemirror_mode": {
    "name": "ipython",
    "version": 3
   },
   "file_extension": ".py",
   "mimetype": "text/x-python",
   "name": "python",
   "nbconvert_exporter": "python",
   "pygments_lexer": "ipython3",
   "version": "3.6.6"
  }
 },
 "nbformat": 4,
 "nbformat_minor": 2
}
